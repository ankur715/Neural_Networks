{
 "cells": [
  {
   "cell_type": "code",
   "execution_count": 4,
   "metadata": {
    "scrolled": true
   },
   "outputs": [
    {
     "data": {
      "text/html": [
       "<img src=\"https://i.ytimg.com/vi/aircAruvnKk/maxresdefault.jpg\" width=\"600\" height=\"200\"/>"
      ],
      "text/plain": [
       "<IPython.core.display.Image object>"
      ]
     },
     "execution_count": 4,
     "metadata": {},
     "output_type": "execute_result"
    }
   ],
   "source": [
    "from IPython.display import Image\n",
    "from IPython.core.display import HTML \n",
    "Image(url= \"https://i.ytimg.com/vi/aircAruvnKk/maxresdefault.jpg\", width=600, height=200)"
   ]
  },
  {
   "cell_type": "markdown",
   "metadata": {},
   "source": [
    "### _By: Ankur Patel_"
   ]
  },
  {
   "cell_type": "markdown",
   "metadata": {},
   "source": [
    "### Exploratory Data Analysis"
   ]
  },
  {
   "cell_type": "code",
   "execution_count": 8,
   "metadata": {},
   "outputs": [],
   "source": [
    "# import libraries\n",
    "import pandas as pd\n",
    "import numpy as np\n",
    "import matplotlib.pyplot as plt\n",
    "%matplotlib inline \n",
    "import seaborn as sns\n",
    "\n",
    "import warnings\n",
    "warnings.filterwarnings(\"ignore\")"
   ]
  },
  {
   "cell_type": "code",
   "execution_count": 10,
   "metadata": {
    "scrolled": true
   },
   "outputs": [
    {
     "data": {
      "text/html": [
       "<div>\n",
       "<style scoped>\n",
       "    .dataframe tbody tr th:only-of-type {\n",
       "        vertical-align: middle;\n",
       "    }\n",
       "\n",
       "    .dataframe tbody tr th {\n",
       "        vertical-align: top;\n",
       "    }\n",
       "\n",
       "    .dataframe thead th {\n",
       "        text-align: right;\n",
       "    }\n",
       "</style>\n",
       "<table border=\"1\" class=\"dataframe\">\n",
       "  <thead>\n",
       "    <tr style=\"text-align: right;\">\n",
       "      <th></th>\n",
       "      <th>sepal_length</th>\n",
       "      <th>sepal_width</th>\n",
       "      <th>petal_length</th>\n",
       "      <th>petal_width</th>\n",
       "    </tr>\n",
       "  </thead>\n",
       "  <tbody>\n",
       "    <tr>\n",
       "      <th>count</th>\n",
       "      <td>150.000000</td>\n",
       "      <td>150.000000</td>\n",
       "      <td>150.000000</td>\n",
       "      <td>150.000000</td>\n",
       "    </tr>\n",
       "    <tr>\n",
       "      <th>mean</th>\n",
       "      <td>5.843333</td>\n",
       "      <td>3.054000</td>\n",
       "      <td>3.758667</td>\n",
       "      <td>1.198667</td>\n",
       "    </tr>\n",
       "    <tr>\n",
       "      <th>std</th>\n",
       "      <td>0.828066</td>\n",
       "      <td>0.433594</td>\n",
       "      <td>1.764420</td>\n",
       "      <td>0.763161</td>\n",
       "    </tr>\n",
       "    <tr>\n",
       "      <th>min</th>\n",
       "      <td>4.300000</td>\n",
       "      <td>2.000000</td>\n",
       "      <td>1.000000</td>\n",
       "      <td>0.100000</td>\n",
       "    </tr>\n",
       "    <tr>\n",
       "      <th>25%</th>\n",
       "      <td>5.100000</td>\n",
       "      <td>2.800000</td>\n",
       "      <td>1.600000</td>\n",
       "      <td>0.300000</td>\n",
       "    </tr>\n",
       "    <tr>\n",
       "      <th>50%</th>\n",
       "      <td>5.800000</td>\n",
       "      <td>3.000000</td>\n",
       "      <td>4.350000</td>\n",
       "      <td>1.300000</td>\n",
       "    </tr>\n",
       "    <tr>\n",
       "      <th>75%</th>\n",
       "      <td>6.400000</td>\n",
       "      <td>3.300000</td>\n",
       "      <td>5.100000</td>\n",
       "      <td>1.800000</td>\n",
       "    </tr>\n",
       "    <tr>\n",
       "      <th>max</th>\n",
       "      <td>7.900000</td>\n",
       "      <td>4.400000</td>\n",
       "      <td>6.900000</td>\n",
       "      <td>2.500000</td>\n",
       "    </tr>\n",
       "  </tbody>\n",
       "</table>\n",
       "</div>"
      ],
      "text/plain": [
       "       sepal_length  sepal_width  petal_length  petal_width\n",
       "count    150.000000   150.000000    150.000000   150.000000\n",
       "mean       5.843333     3.054000      3.758667     1.198667\n",
       "std        0.828066     0.433594      1.764420     0.763161\n",
       "min        4.300000     2.000000      1.000000     0.100000\n",
       "25%        5.100000     2.800000      1.600000     0.300000\n",
       "50%        5.800000     3.000000      4.350000     1.300000\n",
       "75%        6.400000     3.300000      5.100000     1.800000\n",
       "max        7.900000     4.400000      6.900000     2.500000"
      ]
     },
     "execution_count": 10,
     "metadata": {},
     "output_type": "execute_result"
    }
   ],
   "source": [
    "# load and describe dataset\n",
    "df = pd.read_csv(\"iris.csv\")\n",
    "df.describe()"
   ]
  },
  {
   "cell_type": "code",
   "execution_count": 11,
   "metadata": {},
   "outputs": [
    {
     "name": "stdout",
     "output_type": "stream",
     "text": [
      "<class 'pandas.core.frame.DataFrame'>\n",
      "RangeIndex: 150 entries, 0 to 149\n",
      "Data columns (total 5 columns):\n",
      "sepal_length    150 non-null float64\n",
      "sepal_width     150 non-null float64\n",
      "petal_length    150 non-null float64\n",
      "petal_width     150 non-null float64\n",
      "species         150 non-null object\n",
      "dtypes: float64(4), object(1)\n",
      "memory usage: 5.9+ KB\n"
     ]
    }
   ],
   "source": [
    "df.info()"
   ]
  },
  {
   "cell_type": "code",
   "execution_count": 10,
   "metadata": {
    "scrolled": false
   },
   "outputs": [
    {
     "name": "stdout",
     "output_type": "stream",
     "text": [
      "   sepal_length  sepal_width  petal_length  petal_width species\n",
      "0           5.1          3.5           1.4          0.2  setosa\n",
      "1           4.9          3.0           1.4          0.2  setosa\n",
      "2           4.7          3.2           1.3          0.2  setosa\n",
      "3           4.6          3.1           1.5          0.2  setosa\n",
      "4           5.0          3.6           1.4          0.2  setosa\n",
      "     sepal_length  sepal_width  petal_length  petal_width    species\n",
      "145           6.7          3.0           5.2          2.3  virginica\n",
      "146           6.3          2.5           5.0          1.9  virginica\n",
      "147           6.5          3.0           5.2          2.0  virginica\n",
      "148           6.2          3.4           5.4          2.3  virginica\n",
      "149           5.9          3.0           5.1          1.8  virginica\n"
     ]
    }
   ],
   "source": [
    "print(df.head(5))\n",
    "print(df.tail(5))"
   ]
  },
  {
   "cell_type": "code",
   "execution_count": 12,
   "metadata": {},
   "outputs": [],
   "source": [
    "# list of defined species \n",
    "df[\"species\"] = df[\"species\"].map({\n",
    "    \"setosa\": 0,\n",
    "    \"versicolor\": 1,\n",
    "    \"virginica\": 2\n",
    "}).astype(int)"
   ]
  },
  {
   "cell_type": "code",
   "execution_count": 60,
   "metadata": {
    "scrolled": false
   },
   "outputs": [
    {
     "data": {
      "image/png": "[encoded data removed]",
      "text/plain": [
       "<Figure size 444.75x360 with 1 Axes>"
      ]
     },
     "metadata": {},
     "output_type": "display_data"
    },
    {
     "data": {
      "image/png": "[encoded data removed]",
      "text/plain": [
       "<Figure size 444.75x360 with 1 Axes>"
      ]
     },
     "metadata": {},
     "output_type": "display_data"
    },
    {
     "data": {
      "image/png": "[encoded data removed]",
      "text/plain": [
       "<Figure size 444.75x360 with 1 Axes>"
      ]
     },
     "metadata": {},
     "output_type": "display_data"
    },
    {
     "data": {
      "image/png": "[encoded data removed]",
      "text/plain": [
       "<Figure size 444.75x360 with 1 Axes>"
      ]
     },
     "metadata": {},
     "output_type": "display_data"
    }
   ],
   "source": [
    "# visualize the dataset\n",
    "sns.lmplot('sepal_length', 'sepal_width',\n",
    "           data=df,\n",
    "           fit_reg=False,\n",
    "           hue=\"species\",\n",
    "           scatter_kws={\"marker\": \"D\", \"s\": 50})\n",
    "plt.title('Sepal_Length vs Sepal_Width')\n",
    "\n",
    "sns.lmplot('petal_length', 'petal_width',\n",
    "           data=df,\n",
    "           fit_reg=False,\n",
    "           hue=\"species\",\n",
    "           scatter_kws={\"marker\": \"D\", \"s\": 50})\n",
    "plt.title('Petal_Length vs Petal_Width')\n",
    "\n",
    "sns.lmplot('sepal_length', 'petal_length',\n",
    "           data=df,\n",
    "           fit_reg=False,\n",
    "           hue=\"species\",\n",
    "           scatter_kws={\"marker\": \"D\", \"s\": 50})\n",
    "plt.title('Sepal_Length vs Petal_Length')\n",
    "\n",
    "sns.lmplot('sepal_width', 'petal_width',\n",
    "           data=df,\n",
    "           fit_reg=False,\n",
    "           hue=\"species\",\n",
    "           scatter_kws={\"marker\": \"D\", \"s\": 50})\n",
    "plt.title('Sepal_Width vs Petal_Width')\n",
    "plt.show()"
   ]
  },
  {
   "cell_type": "markdown",
   "metadata": {},
   "source": [
    "### Review (1.1)\n",
    "\n",
    "- This is a common beginner's dataset so won't explain much, except that the df will be split into X and y and the X will be standard scaled for values to be in range 0-1."
   ]
  },
  {
   "cell_type": "markdown",
   "metadata": {},
   "source": [
    "### Task 1: Iris dataset\n",
    "\n",
    "- Run a multilayer perceptron (feed forward neural network) with two hidden layers and rectified linear nonlinearities on the iris dataset using the keras Sequential interface (https://keras.io/getting-started/sequential-model-guide/). \n",
    "- Include code for selecting regularization strength and number of hidden units using GridSearchCV and evaluation on an independent test-set."
   ]
  },
  {
   "cell_type": "markdown",
   "metadata": {},
   "source": [
    "### Define model"
   ]
  },
  {
   "cell_type": "code",
   "execution_count": 13,
   "metadata": {},
   "outputs": [],
   "source": [
    "from sklearn.model_selection import GridSearchCV\n",
    "from sklearn.preprocessing import StandardScaler\n",
    "\n",
    "import keras #neural network (NN)\n",
    "from keras.wrappers.scikit_learn import KerasClassifier\n",
    "from keras.models import Sequential\n",
    "from keras.layers import Dense, Activation\n",
    "from sklearn.preprocessing import StandardScaler"
   ]
  },
  {
   "cell_type": "code",
   "execution_count": 164,
   "metadata": {
    "scrolled": false
   },
   "outputs": [],
   "source": [
    "# splitting df, scaling X \n",
    "X = df.iloc[:,:4]\n",
    "y = df.iloc[:,4]\n",
    "X_sc = StandardScaler().fit_transform(X)"
   ]
  },
  {
   "cell_type": "code",
   "execution_count": 165,
   "metadata": {},
   "outputs": [],
   "source": [
    "# fix random seed for reproducibility\n",
    "np.random.seed(7)"
   ]
  },
  {
   "cell_type": "code",
   "execution_count": 166,
   "metadata": {},
   "outputs": [],
   "source": [
    "# one-hot encoded classes\n",
    "num_classes = 3\n",
    "y = keras.utils.to_categorical(y, num_classes)"
   ]
  },
  {
   "cell_type": "code",
   "execution_count": 167,
   "metadata": {},
   "outputs": [],
   "source": [
    "# define baseline model initially with 2 hidden layers\n",
    "def baseline_model(optimizer='adam', hidden_size=2):\n",
    "    model = Sequential([\n",
    "        Dense(hidden_size, input_dim = 4),\n",
    "        Activation('relu'),\n",
    "        Dense(3),\n",
    "        Activation('softmax')\n",
    "    ])        \n",
    "    model.compile(optimizer=optimizer, loss = 'categorical_crossentropy', metrics=['accuracy'])\n",
    "    return model\n",
    "\n",
    "clf = KerasClassifier(baseline_model)"
   ]
  },
  {
   "cell_type": "code",
   "execution_count": 168,
   "metadata": {
    "scrolled": true
   },
   "outputs": [
    {
     "name": "stdout",
     "output_type": "stream",
     "text": [
      "Epoch 1/1\n",
      "120/120 [==============================] - 172s 1s/step - loss: 1.1013 - acc: 0.4000\n",
      "30/30 [==============================] - 19s 619ms/step\n",
      "120/120 [==============================] - 0s 2ms/step\n",
      "Epoch 1/1\n",
      "120/120 [==============================] - 43s 358ms/step - loss: 1.1626 - acc: 0.3333\n",
      "30/30 [==============================] - 14s 470ms/step\n",
      "120/120 [==============================] - 0s 2ms/step\n",
      "Epoch 1/1\n",
      "120/120 [==============================] - 35s 291ms/step - loss: 1.0182 - acc: 0.4833\n",
      "30/30 [==============================] - 12s 408ms/step\n",
      "120/120 [==============================] - 0s 1ms/step\n",
      "Epoch 1/1\n",
      "120/120 [==============================] - 367s 3s/step - loss: 1.3578 - acc: 0.0167\n",
      "30/30 [==============================] - 17s 568ms/step\n",
      "120/120 [==============================] - 1s 7ms/step\n",
      "Epoch 1/1\n",
      "120/120 [==============================] - 40s 333ms/step - loss: 1.1143 - acc: 0.3417\n",
      "30/30 [==============================] - 15s 492ms/step\n",
      "120/120 [==============================] - 0s 1ms/step\n",
      "Epoch 1/1\n",
      "120/120 [==============================] - 45s 377ms/step - loss: 1.5312 - acc: 0.1583\n",
      "30/30 [==============================] - 15s 492ms/step\n",
      "120/120 [==============================] - 0s 911us/step\n",
      "Epoch 1/1\n",
      "120/120 [==============================] - 38s 317ms/step - loss: 0.8987 - acc: 0.5583\n",
      "30/30 [==============================] - 15s 517ms/step\n",
      "120/120 [==============================] - 0s 2ms/step\n",
      "Epoch 1/1\n",
      "120/120 [==============================] - 35s 295ms/step - loss: 1.4163 - acc: 0.0917\n",
      "30/30 [==============================] - 14s 454ms/step\n",
      "120/120 [==============================] - 0s 1ms/step\n",
      "Epoch 1/1\n",
      "120/120 [==============================] - 34s 283ms/step - loss: 0.6372 - acc: 0.6250\n",
      "30/30 [==============================] - 12s 399ms/step\n",
      "120/120 [==============================] - 0s 781us/step\n",
      "Epoch 1/1\n",
      "120/120 [==============================] - 28s 229ms/step - loss: 1.2945 - acc: 0.1000\n",
      "30/30 [==============================] - 12s 411ms/step\n",
      "120/120 [==============================] - 0s 937us/step\n",
      "Epoch 1/2\n",
      "120/120 [==============================] - 36s 297ms/step - loss: 1.1039 - acc: 0.2750\n",
      "Epoch 2/2\n",
      "120/120 [==============================] - 0s 2ms/step - loss: 1.1007 - acc: 0.2000\n",
      "30/30 [==============================] - 16s 548ms/step\n",
      "120/120 [==============================] - 0s 1000us/step\n",
      "Epoch 1/2\n",
      "120/120 [==============================] - 38s 314ms/step - loss: 1.2172 - acc: 0.2250\n",
      "Epoch 2/2\n",
      "120/120 [==============================] - 0s 3ms/step - loss: 1.2136 - acc: 0.2250\n",
      "30/30 [==============================] - 15s 490ms/step\n",
      "120/120 [==============================] - 0s 2ms/step\n",
      "Epoch 1/2\n",
      "120/120 [==============================] - 32s 269ms/step - loss: 0.9784 - acc: 0.6333\n",
      "Epoch 2/2\n",
      "120/120 [==============================] - 0s 1ms/step - loss: 0.9745 - acc: 0.7333\n",
      "30/30 [==============================] - 13s 426ms/step\n",
      "120/120 [==============================] - 0s 1ms/step\n",
      "Epoch 1/2\n",
      "120/120 [==============================] - 28s 237ms/step - loss: 1.1847 - acc: 0.3083\n",
      "Epoch 2/2\n",
      "120/120 [==============================] - 0s 2ms/step - loss: 1.1816 - acc: 0.3000\n",
      "30/30 [==============================] - 14s 471ms/step\n",
      "120/120 [==============================] - 0s 1ms/step\n",
      "Epoch 1/2\n",
      "120/120 [==============================] - 30s 251ms/step - loss: 1.0196 - acc: 0.5667\n",
      "Epoch 2/2\n",
      "120/120 [==============================] - 0s 1ms/step - loss: 1.0144 - acc: 0.5750\n",
      "30/30 [==============================] - 14s 477ms/step\n",
      "120/120 [==============================] - 0s 833us/step\n",
      "Epoch 1/2\n",
      "120/120 [==============================] - 34s 280ms/step - loss: 1.1021 - acc: 0.3667\n",
      "Epoch 2/2\n",
      "120/120 [==============================] - 0s 1ms/step - loss: 1.0962 - acc: 0.4000\n",
      "30/30 [==============================] - 14s 479ms/step\n",
      "120/120 [==============================] - 0s 1ms/step\n",
      "Epoch 1/2\n",
      "120/120 [==============================] - 36s 303ms/step - loss: 1.3998 - acc: 0.0333\n",
      "Epoch 2/2\n",
      "120/120 [==============================] - 0s 1ms/step - loss: 1.3914 - acc: 0.0667\n",
      "30/30 [==============================] - 14s 464ms/step\n",
      "120/120 [==============================] - 0s 1ms/step\n",
      "Epoch 1/2\n",
      "120/120 [==============================] - 34s 284ms/step - loss: 0.9643 - acc: 0.7667\n",
      "Epoch 2/2\n",
      "120/120 [==============================] - 0s 1ms/step - loss: 0.9562 - acc: 0.7750\n",
      "30/30 [==============================] - 16s 529ms/step\n",
      "120/120 [==============================] - 0s 1ms/step\n",
      "Epoch 1/2\n",
      "120/120 [==============================] - 34s 285ms/step - loss: 0.9299 - acc: 0.4917\n",
      "Epoch 2/2\n",
      "120/120 [==============================] - 0s 1ms/step - loss: 0.9186 - acc: 0.4917\n",
      "30/30 [==============================] - 15s 492ms/step\n",
      "120/120 [==============================] - 0s 2ms/step\n",
      "Epoch 1/2\n",
      "120/120 [==============================] - 38s 315ms/step - loss: 1.1679 - acc: 0.4083\n",
      "Epoch 2/2\n",
      "120/120 [==============================] - 0s 1ms/step - loss: 1.1603 - acc: 0.4250\n",
      "30/30 [==============================] - 15s 485ms/step\n",
      "120/120 [==============================] - 0s 1ms/step\n",
      "Epoch 1/2\n",
      "150/150 [==============================] - 34s 226ms/step - loss: 1.0690 - acc: 0.3400\n",
      "Epoch 2/2\n",
      "150/150 [==============================] - 0s 1ms/step - loss: 1.0622 - acc: 0.3533\n"
     ]
    },
    {
     "data": {
      "text/plain": [
       "GridSearchCV(cv=5, error_score='raise',\n",
       "       estimator=<keras.wrappers.scikit_learn.KerasClassifier object at 0x00000144B23826D8>,\n",
       "       fit_params=None, iid=True, n_jobs=1,\n",
       "       param_grid={'epochs': [1, 2], 'hidden_size': [1, 2]},\n",
       "       pre_dispatch='2*n_jobs', refit=True, return_train_score='warn',\n",
       "       scoring=None, verbose=0)"
      ]
     },
     "execution_count": 168,
     "metadata": {},
     "output_type": "execute_result"
    }
   ],
   "source": [
    "# GridSearchCV \n",
    "param_grid = {'epochs' : [1, 2], #iterations on a dataset\n",
    "              'hidden_size':  [1, 2]} #hidden layers\n",
    "\n",
    "grid = GridSearchCV(clf, param_grid=param_grid, cv=5)\n",
    "grid.fit(X_sc, y)"
   ]
  },
  {
   "cell_type": "code",
   "execution_count": 169,
   "metadata": {},
   "outputs": [
    {
     "name": "stdout",
     "output_type": "stream",
     "text": [
      "Best: 0.400000 using {'epochs': 2, 'hidden_size': 2}\n",
      "\n",
      "Mean 0.073333, Std (0.130639) with: {'epochs': 1, 'hidden_size': 1}\n",
      "Mean 0.200000, Std (0.216025) with: {'epochs': 1, 'hidden_size': 2}\n",
      "Mean 0.093333, Std (0.116237) with: {'epochs': 2, 'hidden_size': 1}\n",
      "Mean 0.400000, Std (0.309121) with: {'epochs': 2, 'hidden_size': 2}\n"
     ]
    }
   ],
   "source": [
    "# summarize results\n",
    "print(\"Best: %f using %s\\n\" % (grid.best_score_, grid.best_params_))\n",
    "means = grid.cv_results_['mean_test_score']\n",
    "stds = grid.cv_results_['std_test_score']\n",
    "params = grid.cv_results_['params']\n",
    "for mean, stdev, param in zip(means, stds, params):\n",
    "\tprint(\"Mean %f, Std (%f) with: %r\" % (mean, stdev, param))"
   ]
  },
  {
   "cell_type": "code",
   "execution_count": 184,
   "metadata": {},
   "outputs": [
    {
     "name": "stdout",
     "output_type": "stream",
     "text": [
      "Train on 135 samples, validate on 15 samples\n",
      "Epoch 1/100\n",
      "135/135 [==============================] - 25s 189ms/step - loss: 0.8635 - acc: 0.6370 - val_loss: 0.7612 - val_acc: 1.0000\n",
      "Epoch 2/100\n",
      "135/135 [==============================] - 0s 3ms/step - loss: 0.8247 - acc: 0.6444 - val_loss: 0.7470 - val_acc: 1.0000\n",
      "Epoch 3/100\n",
      "135/135 [==============================] - 0s 3ms/step - loss: 0.7879 - acc: 0.6444 - val_loss: 0.7331 - val_acc: 1.0000\n",
      "Epoch 4/100\n",
      "135/135 [==============================] - 0s 3ms/step - loss: 0.7548 - acc: 0.6963 - val_loss: 0.7268 - val_acc: 1.0000\n",
      "Epoch 5/100\n",
      "135/135 [==============================] - 0s 3ms/step - loss: 0.7234 - acc: 0.7111 - val_loss: 0.7126 - val_acc: 1.0000\n",
      "Epoch 6/100\n",
      "135/135 [==============================] - 0s 3ms/step - loss: 0.6947 - acc: 0.7185 - val_loss: 0.7046 - val_acc: 1.0000\n",
      "Epoch 7/100\n",
      "135/135 [==============================] - 0s 3ms/step - loss: 0.6692 - acc: 0.7630 - val_loss: 0.6972 - val_acc: 1.0000\n",
      "Epoch 8/100\n",
      "135/135 [==============================] - 0s 3ms/step - loss: 0.6460 - acc: 0.7630 - val_loss: 0.6812 - val_acc: 1.0000\n",
      "Epoch 9/100\n",
      "135/135 [==============================] - 0s 3ms/step - loss: 0.6244 - acc: 0.7852 - val_loss: 0.6725 - val_acc: 1.0000\n",
      "Epoch 10/100\n",
      "135/135 [==============================] - 0s 3ms/step - loss: 0.6053 - acc: 0.7926 - val_loss: 0.6658 - val_acc: 1.0000\n",
      "Epoch 11/100\n",
      "135/135 [==============================] - 0s 3ms/step - loss: 0.5865 - acc: 0.8000 - val_loss: 0.6569 - val_acc: 1.0000\n",
      "Epoch 12/100\n",
      "135/135 [==============================] - 0s 4ms/step - loss: 0.5695 - acc: 0.8074 - val_loss: 0.6484 - val_acc: 1.0000\n",
      "Epoch 13/100\n",
      "135/135 [==============================] - 1s 4ms/step - loss: 0.5545 - acc: 0.8370 - val_loss: 0.6458 - val_acc: 0.9333\n",
      "Epoch 14/100\n",
      "135/135 [==============================] - 0s 3ms/step - loss: 0.5400 - acc: 0.8296 - val_loss: 0.6318 - val_acc: 1.0000\n",
      "Epoch 15/100\n",
      "135/135 [==============================] - 0s 3ms/step - loss: 0.5269 - acc: 0.8519 - val_loss: 0.6277 - val_acc: 0.9333\n",
      "Epoch 16/100\n",
      "135/135 [==============================] - 0s 3ms/step - loss: 0.5151 - acc: 0.8519 - val_loss: 0.6214 - val_acc: 0.9333\n",
      "Epoch 17/100\n",
      "135/135 [==============================] - 0s 3ms/step - loss: 0.5045 - acc: 0.8519 - val_loss: 0.6125 - val_acc: 0.9333\n",
      "Epoch 18/100\n",
      "135/135 [==============================] - 0s 3ms/step - loss: 0.4944 - acc: 0.8667 - val_loss: 0.6150 - val_acc: 0.9333\n",
      "Epoch 19/100\n",
      "135/135 [==============================] - 0s 3ms/step - loss: 0.4851 - acc: 0.8741 - val_loss: 0.6022 - val_acc: 0.9333\n",
      "Epoch 20/100\n",
      "135/135 [==============================] - 0s 3ms/step - loss: 0.4763 - acc: 0.8741 - val_loss: 0.6032 - val_acc: 0.9333\n",
      "Epoch 21/100\n",
      "135/135 [==============================] - 0s 3ms/step - loss: 0.4679 - acc: 0.8815 - val_loss: 0.5950 - val_acc: 0.9333\n",
      "Epoch 22/100\n",
      "135/135 [==============================] - 0s 3ms/step - loss: 0.4601 - acc: 0.8815 - val_loss: 0.5828 - val_acc: 0.9333\n",
      "Epoch 23/100\n",
      "135/135 [==============================] - 0s 4ms/step - loss: 0.4529 - acc: 0.8815 - val_loss: 0.5879 - val_acc: 0.9333\n",
      "Epoch 24/100\n",
      "135/135 [==============================] - 0s 3ms/step - loss: 0.4458 - acc: 0.8889 - val_loss: 0.5744 - val_acc: 0.9333\n",
      "Epoch 25/100\n",
      "135/135 [==============================] - 0s 4ms/step - loss: 0.4395 - acc: 0.8963 - val_loss: 0.5749 - val_acc: 0.9333\n",
      "Epoch 26/100\n",
      "135/135 [==============================] - 0s 3ms/step - loss: 0.4336 - acc: 0.8889 - val_loss: 0.5589 - val_acc: 0.9333\n",
      "Epoch 27/100\n",
      "135/135 [==============================] - 0s 3ms/step - loss: 0.4272 - acc: 0.8889 - val_loss: 0.5608 - val_acc: 0.9333\n",
      "Epoch 28/100\n",
      "135/135 [==============================] - 0s 3ms/step - loss: 0.4215 - acc: 0.8963 - val_loss: 0.5570 - val_acc: 0.9333\n",
      "Epoch 29/100\n",
      "135/135 [==============================] - 0s 3ms/step - loss: 0.4163 - acc: 0.8963 - val_loss: 0.5518 - val_acc: 0.9333\n",
      "Epoch 30/100\n",
      "135/135 [==============================] - 0s 3ms/step - loss: 0.4112 - acc: 0.8963 - val_loss: 0.5488 - val_acc: 0.9333\n",
      "Epoch 31/100\n",
      "135/135 [==============================] - 0s 3ms/step - loss: 0.4065 - acc: 0.8963 - val_loss: 0.5398 - val_acc: 0.9333\n",
      "Epoch 32/100\n",
      "135/135 [==============================] - 0s 3ms/step - loss: 0.4023 - acc: 0.8963 - val_loss: 0.5397 - val_acc: 0.9333\n",
      "Epoch 33/100\n",
      "135/135 [==============================] - 0s 3ms/step - loss: 0.3973 - acc: 0.9111 - val_loss: 0.5318 - val_acc: 0.9333\n",
      "Epoch 34/100\n",
      "135/135 [==============================] - 0s 3ms/step - loss: 0.3932 - acc: 0.9111 - val_loss: 0.5288 - val_acc: 0.9333\n",
      "Epoch 35/100\n",
      "135/135 [==============================] - 0s 3ms/step - loss: 0.3890 - acc: 0.9185 - val_loss: 0.5227 - val_acc: 0.9333\n",
      "Epoch 36/100\n",
      "135/135 [==============================] - 0s 3ms/step - loss: 0.3849 - acc: 0.9185 - val_loss: 0.5116 - val_acc: 0.9333\n",
      "Epoch 37/100\n",
      "135/135 [==============================] - 0s 3ms/step - loss: 0.3810 - acc: 0.9185 - val_loss: 0.5032 - val_acc: 0.9333\n",
      "Epoch 38/100\n",
      "135/135 [==============================] - 0s 3ms/step - loss: 0.3770 - acc: 0.9185 - val_loss: 0.5076 - val_acc: 0.9333\n",
      "Epoch 39/100\n",
      "135/135 [==============================] - 0s 3ms/step - loss: 0.3733 - acc: 0.9185 - val_loss: 0.5014 - val_acc: 0.9333\n",
      "Epoch 40/100\n",
      "135/135 [==============================] - 0s 3ms/step - loss: 0.3700 - acc: 0.9259 - val_loss: 0.4932 - val_acc: 0.9333\n",
      "Epoch 41/100\n",
      "135/135 [==============================] - 0s 3ms/step - loss: 0.3657 - acc: 0.9259 - val_loss: 0.4968 - val_acc: 0.9333\n",
      "Epoch 42/100\n",
      "135/135 [==============================] - 0s 3ms/step - loss: 0.3623 - acc: 0.9259 - val_loss: 0.4917 - val_acc: 0.9333\n",
      "Epoch 43/100\n",
      "135/135 [==============================] - 0s 3ms/step - loss: 0.3586 - acc: 0.9259 - val_loss: 0.4887 - val_acc: 0.9333\n",
      "Epoch 44/100\n",
      "135/135 [==============================] - 0s 3ms/step - loss: 0.3554 - acc: 0.9259 - val_loss: 0.4806 - val_acc: 0.9333\n",
      "Epoch 45/100\n",
      "135/135 [==============================] - 0s 3ms/step - loss: 0.3518 - acc: 0.9259 - val_loss: 0.4744 - val_acc: 0.9333\n",
      "Epoch 46/100\n",
      "135/135 [==============================] - 0s 3ms/step - loss: 0.3487 - acc: 0.9259 - val_loss: 0.4742 - val_acc: 0.9333\n",
      "Epoch 47/100\n",
      "135/135 [==============================] - 0s 3ms/step - loss: 0.3454 - acc: 0.9259 - val_loss: 0.4717 - val_acc: 0.9333\n",
      "Epoch 48/100\n",
      "135/135 [==============================] - 0s 3ms/step - loss: 0.3423 - acc: 0.9259 - val_loss: 0.4656 - val_acc: 0.9333\n",
      "Epoch 49/100\n",
      "135/135 [==============================] - 0s 3ms/step - loss: 0.3392 - acc: 0.9259 - val_loss: 0.4610 - val_acc: 0.9333\n",
      "Epoch 50/100\n",
      "135/135 [==============================] - 0s 3ms/step - loss: 0.3360 - acc: 0.9259 - val_loss: 0.4493 - val_acc: 0.9333\n",
      "Epoch 51/100\n",
      "135/135 [==============================] - 0s 3ms/step - loss: 0.3332 - acc: 0.9259 - val_loss: 0.4433 - val_acc: 0.9333\n",
      "Epoch 52/100\n",
      "135/135 [==============================] - 0s 3ms/step - loss: 0.3304 - acc: 0.9259 - val_loss: 0.4500 - val_acc: 0.9333\n",
      "Epoch 53/100\n",
      "135/135 [==============================] - 0s 4ms/step - loss: 0.3276 - acc: 0.9259 - val_loss: 0.4323 - val_acc: 1.0000\n",
      "Epoch 54/100\n",
      "135/135 [==============================] - 0s 4ms/step - loss: 0.3242 - acc: 0.9259 - val_loss: 0.4356 - val_acc: 0.9333\n",
      "Epoch 55/100\n",
      "135/135 [==============================] - 0s 3ms/step - loss: 0.3218 - acc: 0.9333 - val_loss: 0.4249 - val_acc: 1.0000\n",
      "Epoch 56/100\n",
      "135/135 [==============================] - 0s 3ms/step - loss: 0.3183 - acc: 0.9333 - val_loss: 0.4284 - val_acc: 0.9333\n",
      "Epoch 57/100\n",
      "135/135 [==============================] - 0s 3ms/step - loss: 0.3162 - acc: 0.9333 - val_loss: 0.4302 - val_acc: 0.9333\n",
      "Epoch 58/100\n",
      "135/135 [==============================] - 0s 3ms/step - loss: 0.3130 - acc: 0.9333 - val_loss: 0.4174 - val_acc: 0.9333\n",
      "Epoch 59/100\n",
      "135/135 [==============================] - 0s 3ms/step - loss: 0.3103 - acc: 0.9333 - val_loss: 0.4216 - val_acc: 0.9333\n",
      "Epoch 60/100\n",
      "135/135 [==============================] - 0s 3ms/step - loss: 0.3073 - acc: 0.9333 - val_loss: 0.4099 - val_acc: 0.9333\n",
      "Epoch 61/100\n",
      "135/135 [==============================] - 0s 3ms/step - loss: 0.3048 - acc: 0.9333 - val_loss: 0.4083 - val_acc: 0.9333\n"
     ]
    },
    {
     "name": "stdout",
     "output_type": "stream",
     "text": [
      "Epoch 62/100\n",
      "135/135 [==============================] - 0s 3ms/step - loss: 0.3022 - acc: 0.9333 - val_loss: 0.4104 - val_acc: 0.9333\n",
      "Epoch 63/100\n",
      "135/135 [==============================] - 0s 3ms/step - loss: 0.2995 - acc: 0.9333 - val_loss: 0.3986 - val_acc: 0.9333\n",
      "Epoch 64/100\n",
      "135/135 [==============================] - 0s 3ms/step - loss: 0.2969 - acc: 0.9333 - val_loss: 0.3911 - val_acc: 1.0000\n",
      "Epoch 65/100\n",
      "135/135 [==============================] - 0s 3ms/step - loss: 0.2946 - acc: 0.9333 - val_loss: 0.3998 - val_acc: 0.9333\n",
      "Epoch 66/100\n",
      "135/135 [==============================] - 0s 3ms/step - loss: 0.2918 - acc: 0.9333 - val_loss: 0.3914 - val_acc: 0.9333\n",
      "Epoch 67/100\n",
      "135/135 [==============================] - 0s 3ms/step - loss: 0.2891 - acc: 0.9333 - val_loss: 0.3819 - val_acc: 1.0000\n",
      "Epoch 68/100\n",
      "135/135 [==============================] - 0s 3ms/step - loss: 0.2866 - acc: 0.9333 - val_loss: 0.3795 - val_acc: 1.0000\n",
      "Epoch 69/100\n",
      "135/135 [==============================] - 0s 3ms/step - loss: 0.2838 - acc: 0.9333 - val_loss: 0.3788 - val_acc: 0.9333\n",
      "Epoch 70/100\n",
      "135/135 [==============================] - 0s 3ms/step - loss: 0.2812 - acc: 0.9333 - val_loss: 0.3732 - val_acc: 0.9333\n",
      "Epoch 71/100\n",
      "135/135 [==============================] - 0s 3ms/step - loss: 0.2785 - acc: 0.9481 - val_loss: 0.3729 - val_acc: 0.9333\n",
      "Epoch 72/100\n",
      "135/135 [==============================] - 0s 3ms/step - loss: 0.2762 - acc: 0.9481 - val_loss: 0.3722 - val_acc: 0.9333\n",
      "Epoch 73/100\n",
      "135/135 [==============================] - 0s 3ms/step - loss: 0.2739 - acc: 0.9481 - val_loss: 0.3561 - val_acc: 1.0000\n",
      "Epoch 74/100\n",
      "135/135 [==============================] - 0s 3ms/step - loss: 0.2713 - acc: 0.9481 - val_loss: 0.3595 - val_acc: 0.9333\n",
      "Epoch 75/100\n",
      "135/135 [==============================] - 0s 3ms/step - loss: 0.2690 - acc: 0.9481 - val_loss: 0.3565 - val_acc: 0.9333\n",
      "Epoch 76/100\n",
      "135/135 [==============================] - 0s 3ms/step - loss: 0.2668 - acc: 0.9481 - val_loss: 0.3556 - val_acc: 0.9333\n",
      "Epoch 77/100\n",
      "135/135 [==============================] - 0s 3ms/step - loss: 0.2643 - acc: 0.9481 - val_loss: 0.3472 - val_acc: 1.0000\n",
      "Epoch 78/100\n",
      "135/135 [==============================] - 0s 3ms/step - loss: 0.2621 - acc: 0.9481 - val_loss: 0.3490 - val_acc: 0.9333\n",
      "Epoch 79/100\n",
      "135/135 [==============================] - 0s 3ms/step - loss: 0.2601 - acc: 0.9481 - val_loss: 0.3401 - val_acc: 1.0000\n",
      "Epoch 80/100\n",
      "135/135 [==============================] - 0s 3ms/step - loss: 0.2578 - acc: 0.9481 - val_loss: 0.3424 - val_acc: 0.9333\n",
      "Epoch 81/100\n",
      "135/135 [==============================] - 0s 3ms/step - loss: 0.2550 - acc: 0.9481 - val_loss: 0.3355 - val_acc: 1.0000\n",
      "Epoch 82/100\n",
      "135/135 [==============================] - 0s 3ms/step - loss: 0.2531 - acc: 0.9481 - val_loss: 0.3264 - val_acc: 1.0000\n",
      "Epoch 83/100\n",
      "135/135 [==============================] - 0s 3ms/step - loss: 0.2509 - acc: 0.9481 - val_loss: 0.3302 - val_acc: 1.0000\n",
      "Epoch 84/100\n",
      "135/135 [==============================] - 1s 4ms/step - loss: 0.2488 - acc: 0.9481 - val_loss: 0.3284 - val_acc: 0.9333\n",
      "Epoch 85/100\n",
      "135/135 [==============================] - 0s 3ms/step - loss: 0.2468 - acc: 0.9481 - val_loss: 0.3181 - val_acc: 1.0000\n",
      "Epoch 86/100\n",
      "135/135 [==============================] - 0s 3ms/step - loss: 0.2447 - acc: 0.9481 - val_loss: 0.3202 - val_acc: 1.0000\n",
      "Epoch 87/100\n",
      "135/135 [==============================] - 0s 3ms/step - loss: 0.2427 - acc: 0.9481 - val_loss: 0.3124 - val_acc: 1.0000\n",
      "Epoch 88/100\n",
      "135/135 [==============================] - 0s 3ms/step - loss: 0.2408 - acc: 0.9481 - val_loss: 0.3189 - val_acc: 0.9333\n",
      "Epoch 89/100\n",
      "135/135 [==============================] - 0s 3ms/step - loss: 0.2385 - acc: 0.9481 - val_loss: 0.3117 - val_acc: 1.0000\n",
      "Epoch 90/100\n",
      "135/135 [==============================] - 0s 3ms/step - loss: 0.2367 - acc: 0.9481 - val_loss: 0.3054 - val_acc: 1.0000\n",
      "Epoch 91/100\n",
      "135/135 [==============================] - 0s 3ms/step - loss: 0.2348 - acc: 0.9481 - val_loss: 0.3055 - val_acc: 1.0000\n",
      "Epoch 92/100\n",
      "135/135 [==============================] - 0s 3ms/step - loss: 0.2329 - acc: 0.9481 - val_loss: 0.3021 - val_acc: 1.0000\n",
      "Epoch 93/100\n",
      "135/135 [==============================] - 0s 3ms/step - loss: 0.2316 - acc: 0.9481 - val_loss: 0.2920 - val_acc: 1.0000\n",
      "Epoch 94/100\n",
      "135/135 [==============================] - 0s 3ms/step - loss: 0.2296 - acc: 0.9556 - val_loss: 0.3014 - val_acc: 1.0000\n",
      "Epoch 95/100\n",
      "135/135 [==============================] - 0s 4ms/step - loss: 0.2275 - acc: 0.9556 - val_loss: 0.2916 - val_acc: 1.0000\n",
      "Epoch 96/100\n",
      "135/135 [==============================] - 0s 3ms/step - loss: 0.2256 - acc: 0.9556 - val_loss: 0.2933 - val_acc: 1.0000\n",
      "Epoch 97/100\n",
      "135/135 [==============================] - 0s 3ms/step - loss: 0.2239 - acc: 0.9556 - val_loss: 0.2887 - val_acc: 1.0000\n",
      "Epoch 98/100\n",
      "135/135 [==============================] - 0s 3ms/step - loss: 0.2221 - acc: 0.9556 - val_loss: 0.2861 - val_acc: 1.0000\n",
      "Epoch 99/100\n",
      "135/135 [==============================] - 0s 3ms/step - loss: 0.2208 - acc: 0.9556 - val_loss: 0.2777 - val_acc: 1.0000\n",
      "Epoch 100/100\n",
      "135/135 [==============================] - 0s 3ms/step - loss: 0.2189 - acc: 0.9630 - val_loss: 0.2843 - val_acc: 1.0000\n",
      "\n",
      "Summary:\n",
      "\n",
      "_________________________________________________________________\n",
      "Layer (type)                 Output Shape              Param #   \n",
      "=================================================================\n",
      "dense_642 (Dense)            (None, 2)                 10        \n",
      "_________________________________________________________________\n",
      "activation_638 (Activation)  (None, 2)                 0         \n",
      "_________________________________________________________________\n",
      "dense_643 (Dense)            (None, 3)                 9         \n",
      "_________________________________________________________________\n",
      "activation_639 (Activation)  (None, 3)                 0         \n",
      "=================================================================\n",
      "Total params: 19\n",
      "Trainable params: 19\n",
      "Non-trainable params: 0\n",
      "_________________________________________________________________\n"
     ]
    }
   ],
   "source": [
    "# validating the test split with higher epochs of 100 and batch_size of 5\n",
    "model = baseline_model()\n",
    "model.fit(X_sc, y,\n",
    "          epochs=100, \n",
    "          batch_size=5, #number of samples per gradient update\n",
    "          validation_split=.1)\n",
    "print('\\nSummary:\\n')\n",
    "model.summary()"
   ]
  },
  {
   "cell_type": "code",
   "execution_count": 282,
   "metadata": {},
   "outputs": [
    {
     "name": "stdout",
     "output_type": "stream",
     "text": [
      "150/150 [==============================] - 2s 16ms/step\n",
      "\n",
      "Test loss: 0.224\n",
      "Test Accuracy: 0.967\n"
     ]
    }
   ],
   "source": [
    "# evaluating results\n",
    "score = model.evaluate(X_sc, y, batch_size=3) \n",
    "print(\"\\nTest loss: {:.3f}\".format(score[0]))\n",
    "print(\"Test Accuracy: {:.3f}\".format(score[1]))"
   ]
  },
  {
   "cell_type": "markdown",
   "metadata": {},
   "source": [
    "### Review (1.2)\n",
    "\n",
    "- The GridSearchCV of KerasClassifier was ran with different parameters to understand \n",
    "- Some parameters took long time, and only the chosen one is displayed\n",
    "- The epochs takes long time since it iterates over entire x and y data, and even more after StandardScaler \n",
    "- As the results show, the best score was 0.4 with 2 hidden layers and 2 epochs (more epochs = higher score)\n",
    "- It was further evaluated with a test split of 0.1, epochs=100, batch_size=5 to validate the model and it showed 0.963\n",
    "- It evaluated for 0.967 test accuracy with full scaled X and y"
   ]
  },
  {
   "cell_type": "markdown",
   "metadata": {},
   "source": [
    "### Task 2: MNIST dataset\n",
    "\n",
    "- Train a multilayer perceptron on the MNIST dataset using the traditional train/test split as given by mnist.load_data in keras. \n",
    "- Use a separate 10000 samples (from the training set) for model selection and to compute learning curves (accuracy vs epochs, not vs n_samples). \n",
    "- Compare a “vanilla” model with a model using drop-out. \n",
    "- Visualize learning curves for all models. As an estimate, you should expect each model to take less than 30 minutes to train on a CPU.\n",
    "\n",
    "Tutorial for neural network explanation: https://www.youtube.com/watch?v=aircAruvnKk&t=0s&list=PLZHQObOWTQDNU6R1_67000Dx_ZCJB-3pi&index=2"
   ]
  },
  {
   "cell_type": "markdown",
   "metadata": {},
   "source": [
    "### Preparing data"
   ]
  },
  {
   "cell_type": "code",
   "execution_count": 2,
   "metadata": {},
   "outputs": [],
   "source": [
    "# libraries\n",
    "from keras.datasets import mnist"
   ]
  },
  {
   "cell_type": "code",
   "execution_count": 14,
   "metadata": {
    "scrolled": false
   },
   "outputs": [],
   "source": [
    "# loading the MNIST data \n",
    "(X_train, y_train),(X_test, y_test) = mnist.load_data()"
   ]
  },
  {
   "cell_type": "code",
   "execution_count": 207,
   "metadata": {
    "scrolled": true
   },
   "outputs": [
    {
     "name": "stdout",
     "output_type": "stream",
     "text": [
      "X_train (60000, 28, 28)\n",
      "y_train (60000,)\n",
      "X_test (10000, 28, 28)\n",
      "y_test (10000,)\n"
     ]
    }
   ],
   "source": [
    "# checking size\n",
    "mnist_data = [X_train, y_train, X_test, y_test]\n",
    "mnist_cols = [\"X_train\",\"y_train\",\"X_test\",\"y_test\"]\n",
    "for i in range(len(mnist_data)):\n",
    "    print(\"{} {}\".format(mnist_cols[i], mnist_data[i].shape))"
   ]
  },
  {
   "cell_type": "code",
   "execution_count": 238,
   "metadata": {
    "scrolled": false
   },
   "outputs": [
    {
     "name": "stdout",
     "output_type": "stream",
     "text": [
      "AxesImage(54,36;334.8x217.44)\n"
     ]
    },
    {
     "data": {
      "image/png": "[encoded data removed]",
      "text/plain": [
       "<Figure size 432x288 with 1 Axes>"
      ]
     },
     "metadata": {},
     "output_type": "display_data"
    }
   ],
   "source": [
    "# checking first index\n",
    "print(plt.imshow(X_train[0]))"
   ]
  },
  {
   "cell_type": "code",
   "execution_count": 365,
   "metadata": {},
   "outputs": [],
   "source": [
    "# defining function to extract image+name \n",
    "def num_img(i):\n",
    "    img = X_train[i]\n",
    "    c = y_train[i]\n",
    "    plt.imshow(img)\n",
    "    plt.title(\"Number %d\" % (c))\n",
    "    plt.axis('on')\n",
    "\n",
    "#defining to get grid of images    \n",
    "def num_sample(X_train, y_train, n, rows=4, cols=4, imfile=None, fontsize=12):\n",
    "    for i in range(0, rows*cols):\n",
    "        plt.subplot(rows, cols, i+1)\n",
    "        img = X_train[n+i]\n",
    "        plt.imshow(img, cmap='gnuplot2')\n",
    "        plt.title(\"{}\".format(class_name[y_train[n+i]]), fontsize=fontsize)\n",
    "        plt.axis('off')\n",
    "        plt.subplots_adjust(wspace=0.6, hspace=0.01)\n",
    "        #plt.subplots_adjust(hspace=0.45, wspace=0.45)\n",
    "        #plt.tight_layout(pad=0.4, w_pad=0.5, h_pad=1.0)\n",
    "    if imfile:\n",
    "        plt.savefig(imfile)"
   ]
  },
  {
   "cell_type": "code",
   "execution_count": 366,
   "metadata": {
    "scrolled": true
   },
   "outputs": [
    {
     "data": {
      "image/png": "[encoded data removed]",
      "text/plain": [
       "<Figure size 432x288 with 1 Axes>"
      ]
     },
     "metadata": {},
     "output_type": "display_data"
    }
   ],
   "source": [
    "num_img(1000)"
   ]
  },
  {
   "cell_type": "code",
   "execution_count": 368,
   "metadata": {},
   "outputs": [
    {
     "data": {
      "image/png": "[encoded data removed]",
      "text/plain": [
       "<Figure size 432x288 with 10 Axes>"
      ]
     },
     "metadata": {},
     "output_type": "display_data"
    }
   ],
   "source": [
    "# first 10 images \n",
    "num_sample(X_train, y_train, 0, 2, 5)"
   ]
  },
  {
   "cell_type": "markdown",
   "metadata": {},
   "source": [
    "### Learning curve"
   ]
  },
  {
   "cell_type": "code",
   "execution_count": 407,
   "metadata": {},
   "outputs": [
    {
     "name": "stdout",
     "output_type": "stream",
     "text": [
      "_________________________________________________________________\n",
      "Layer (type)                 Output Shape              Param #   \n",
      "=================================================================\n",
      "dense_724 (Dense)            (None, 32)                25120     \n",
      "_________________________________________________________________\n",
      "dense_725 (Dense)            (None, 10)                330       \n",
      "=================================================================\n",
      "Total params: 25,450\n",
      "Trainable params: 25,450\n",
      "Non-trainable params: 0\n",
      "_________________________________________________________________\n"
     ]
    }
   ],
   "source": [
    "# 32 hidden layers\n",
    "model1 = Sequential([\n",
    "    Dense(32, input_shape=(784,)), #specify shape first for model to know\n",
    "    Activation('relu'),\n",
    "    Dense(10),\n",
    "    Activation('softmax')\n",
    "])        \n",
    "\n",
    "model1 = Sequential()\n",
    "model1.add(Dense(32, input_dim=784))\n",
    "model1.add(Activation('relu'))\n",
    "\n",
    "model1 = Sequential([\n",
    "    Dense(32, input_shape=(784,), activation='relu'),\n",
    "    Dense(10, activation='softmax')\n",
    "])        \n",
    "\n",
    "model1.summary()"
   ]
  },
  {
   "cell_type": "code",
   "execution_count": 15,
   "metadata": {},
   "outputs": [],
   "source": [
    "# preparing \n",
    "X_train = X_train.reshape(60000,784).astype('float32') / 255\n",
    "X_test = X_test.reshape(10000,784).astype('float32') / 255\n",
    "\n",
    "# convert class vectors to binary class matrices\n",
    "num_classes = 10\n",
    "y_train = keras.utils.to_categorical(y_train, num_classes)\n",
    "y_test = keras.utils.to_categorical(y_test, num_classes)"
   ]
  },
  {
   "cell_type": "code",
   "execution_count": 378,
   "metadata": {
    "scrolled": true
   },
   "outputs": [],
   "source": [
    "# full dataset\n",
    "model1.compile('adam', 'categorical_crossentropy', metrics=['accuracy'])\n",
    "model1 = model1.fit(X_train, y_train, batch_size=32, epochs=10, verbose=0, callbacks=None, validation_data=(X_test, y_test))"
   ]
  },
  {
   "cell_type": "code",
   "execution_count": 380,
   "metadata": {},
   "outputs": [
    {
     "data": {
      "image/png": "[encoded data removed]",
      "text/plain": [
       "<Figure size 432x288 with 1 Axes>"
      ]
     },
     "metadata": {},
     "output_type": "display_data"
    },
    {
     "data": {
      "image/png": "[encoded data removed]",
      "text/plain": [
       "<Figure size 576x432 with 1 Axes>"
      ]
     },
     "metadata": {},
     "output_type": "display_data"
    }
   ],
   "source": [
    "# visualize\n",
    "\n",
    "# accuracy\n",
    "plt.figure(0)\n",
    "plt.plot(model1.history['acc'],'r')\n",
    "plt.plot(model1.history['val_acc'],'g')\n",
    "plt.xticks(np.arange(0, 11, 2.0))\n",
    "plt.rcParams['figure.figsize'] = (8, 6)\n",
    "plt.xlabel(\"Epochs\")\n",
    "plt.ylabel(\"Accuracy\")\n",
    "plt.title(\"Training Accuracy vs Test Accuracy\")\n",
    "plt.legend(['Train','Test'])\n",
    " \n",
    "# loss     \n",
    "plt.figure(1)\n",
    "plt.plot(model1.history['loss'],'r')\n",
    "plt.plot(model1.history['val_loss'],'g')\n",
    "plt.xticks(np.arange(0, 11, 2.0))\n",
    "plt.rcParams['figure.figsize'] = (8, 6)\n",
    "plt.xlabel(\"Epochs\")\n",
    "plt.ylabel(\"Loss\")\n",
    "plt.title(\"Training Loss vs Test Loss\")\n",
    "plt.legend(['train','test'])\n",
    " \n",
    "plt.show()"
   ]
  },
  {
   "cell_type": "code",
   "execution_count": 318,
   "metadata": {
    "scrolled": false
   },
   "outputs": [
    {
     "name": "stdout",
     "output_type": "stream",
     "text": [
      "\n",
      "Train loss: 0.061\n",
      "Train Accuracy: 0.982\n"
     ]
    }
   ],
   "source": [
    "# evaluating 60000 train set\n",
    "score1 = model1.evaluate(X_train, y_train, verbose=0) \n",
    "print(\"\\nTrain loss: {:.3f}\".format(score1[0]))\n",
    "print(\"Train Accuracy: {:.3f}\".format(score1[1]))"
   ]
  },
  {
   "cell_type": "code",
   "execution_count": 317,
   "metadata": {},
   "outputs": [
    {
     "name": "stdout",
     "output_type": "stream",
     "text": [
      "\n",
      "Test loss: 0.109\n",
      "Test Accuracy: 0.967\n"
     ]
    }
   ],
   "source": [
    "# evaluating test set\n",
    "score1 = model1.evaluate(X_test, y_test, verbose=0) \n",
    "print(\"\\nTest loss: {:.3f}\".format(score1[0]))\n",
    "print(\"Test Accuracy: {:.3f}\".format(score1[1]))"
   ]
  },
  {
   "cell_type": "markdown",
   "metadata": {},
   "source": [
    "#### 10000 train subset"
   ]
  },
  {
   "cell_type": "code",
   "execution_count": 16,
   "metadata": {},
   "outputs": [],
   "source": [
    "# 10000 for model selection and learning curves\n",
    "X_train1 = X_train[:10000,:]\n",
    "y_train1 = y_train[:10000,:]"
   ]
  },
  {
   "cell_type": "code",
   "execution_count": 404,
   "metadata": {
    "scrolled": true
   },
   "outputs": [
    {
     "name": "stdout",
     "output_type": "stream",
     "text": [
      "Train on 10000 samples, validate on 10000 samples\n",
      "Epoch 1/100\n",
      "10000/10000 [==============================] - 600s 60ms/step - loss: 0.7401 - acc: 0.8028 - val_loss: 0.3833 - val_acc: 0.8944\n",
      "Epoch 2/100\n",
      "10000/10000 [==============================] - 14s 1ms/step - loss: 0.3224 - acc: 0.9126 - val_loss: 0.3071 - val_acc: 0.9142s: 0.3\n",
      "Epoch 3/100\n",
      "10000/10000 [==============================] - 14s 1ms/step - loss: 0.2598 - acc: 0.9290 - val_loss: 0.2867 - val_acc: 0.9179\n",
      "Epoch 4/100\n",
      "10000/10000 [==============================] - 14s 1ms/step - loss: 0.2268 - acc: 0.9370 - val_loss: 0.2694 - val_acc: 0.9234\n",
      "Epoch 5/100\n",
      "10000/10000 [==============================] - 13s 1ms/step - loss: 0.2009 - acc: 0.9438 - val_loss: 0.2623 - val_acc: 0.9236\n",
      "Epoch 6/100\n",
      "10000/10000 [==============================] - 13s 1ms/step - loss: 0.1827 - acc: 0.9492 - val_loss: 0.2532 - val_acc: 0.9263\n",
      "Epoch 7/100\n",
      "10000/10000 [==============================] - 14s 1ms/step - loss: 0.1622 - acc: 0.9555 - val_loss: 0.2419 - val_acc: 0.9292oss: 0.1612 - acc: 0\n",
      "Epoch 8/100\n",
      "10000/10000 [==============================] - 13s 1ms/step - loss: 0.1487 - acc: 0.9585 - val_loss: 0.2433 - val_acc: 0.9322\n",
      "Epoch 9/100\n",
      "10000/10000 [==============================] - 13s 1ms/step - loss: 0.1360 - acc: 0.9614 - val_loss: 0.2241 - val_acc: 0.9354\n",
      "Epoch 10/100\n",
      "10000/10000 [==============================] - 14s 1ms/step - loss: 0.1234 - acc: 0.9670 - val_loss: 0.2295 - val_acc: 0.9334\n",
      "Epoch 11/100\n",
      "10000/10000 [==============================] - 13s 1ms/step - loss: 0.1122 - acc: 0.9695 - val_loss: 0.2235 - val_acc: 0.9365\n",
      "Epoch 12/100\n",
      "10000/10000 [==============================] - 13s 1ms/step - loss: 0.1025 - acc: 0.9728 - val_loss: 0.2218 - val_acc: 0.9361\n",
      "Epoch 13/100\n",
      "10000/10000 [==============================] - 12s 1ms/step - loss: 0.0955 - acc: 0.9742 - val_loss: 0.2212 - val_acc: 0.9362\n",
      "Epoch 14/100\n",
      "10000/10000 [==============================] - 12s 1ms/step - loss: 0.0866 - acc: 0.9779 - val_loss: 0.2193 - val_acc: 0.9374\n",
      "Epoch 15/100\n",
      "10000/10000 [==============================] - 13s 1ms/step - loss: 0.0803 - acc: 0.9801 - val_loss: 0.2203 - val_acc: 0.9370\n",
      "Epoch 16/100\n",
      "10000/10000 [==============================] - 12s 1ms/step - loss: 0.0735 - acc: 0.9818 - val_loss: 0.2228 - val_acc: 0.9359\n",
      "Epoch 17/100\n",
      "10000/10000 [==============================] - 12s 1ms/step - loss: 0.0665 - acc: 0.9844 - val_loss: 0.2203 - val_acc: 0.9389\n",
      "Epoch 18/100\n",
      "10000/10000 [==============================] - 12s 1ms/step - loss: 0.0610 - acc: 0.9850 - val_loss: 0.2290 - val_acc: 0.9365\n",
      "Epoch 19/100\n",
      "10000/10000 [==============================] - 12s 1ms/step - loss: 0.0570 - acc: 0.9861 - val_loss: 0.2229 - val_acc: 0.9388\n",
      "Epoch 20/100\n",
      "10000/10000 [==============================] - 12s 1ms/step - loss: 0.0514 - acc: 0.9879 - val_loss: 0.2229 - val_acc: 0.9386\n",
      "Epoch 21/100\n",
      "10000/10000 [==============================] - 12s 1ms/step - loss: 0.0480 - acc: 0.9884 - val_loss: 0.2228 - val_acc: 0.9397\n",
      "Epoch 22/100\n",
      "10000/10000 [==============================] - 11s 1ms/step - loss: 0.0426 - acc: 0.9905 - val_loss: 0.2255 - val_acc: 0.9402\n",
      "Epoch 23/100\n",
      "10000/10000 [==============================] - 11s 1ms/step - loss: 0.0412 - acc: 0.9904 - val_loss: 0.2311 - val_acc: 0.9384\n",
      "Epoch 24/100\n",
      "10000/10000 [==============================] - 13s 1ms/step - loss: 0.0360 - acc: 0.9928 - val_loss: 0.2323 - val_acc: 0.9381\n",
      "Epoch 25/100\n",
      "10000/10000 [==============================] - 12s 1ms/step - loss: 0.0316 - acc: 0.9941 - val_loss: 0.2451 - val_acc: 0.9395\n",
      "Epoch 26/100\n",
      "10000/10000 [==============================] - 12s 1ms/step - loss: 0.0293 - acc: 0.9949 - val_loss: 0.2371 - val_acc: 0.9407\n",
      "Epoch 27/100\n",
      "10000/10000 [==============================] - 13s 1ms/step - loss: 0.0265 - acc: 0.9956 - val_loss: 0.2440 - val_acc: 0.9372\n",
      "Epoch 28/100\n",
      "10000/10000 [==============================] - 13s 1ms/step - loss: 0.0249 - acc: 0.9957 - val_loss: 0.2490 - val_acc: 0.9382\n",
      "Epoch 29/100\n",
      "10000/10000 [==============================] - 11s 1ms/step - loss: 0.0226 - acc: 0.9966 - val_loss: 0.2466 - val_acc: 0.9401\n",
      "Epoch 30/100\n",
      "10000/10000 [==============================] - 11s 1ms/step - loss: 0.0200 - acc: 0.9977 - val_loss: 0.2468 - val_acc: 0.9391\n",
      "Epoch 31/100\n",
      "10000/10000 [==============================] - 15s 1ms/step - loss: 0.0189 - acc: 0.9980 - val_loss: 0.2443 - val_acc: 0.9425\n",
      "Epoch 32/100\n",
      "10000/10000 [==============================] - 13s 1ms/step - loss: 0.0160 - acc: 0.9987 - val_loss: 0.2489 - val_acc: 0.9402\n",
      "Epoch 33/100\n",
      "10000/10000 [==============================] - 13s 1ms/step - loss: 0.0156 - acc: 0.9981 - val_loss: 0.2566 - val_acc: 0.9400\n",
      "Epoch 34/100\n",
      "10000/10000 [==============================] - 13s 1ms/step - loss: 0.0149 - acc: 0.9979 - val_loss: 0.2565 - val_acc: 0.9403\n",
      "Epoch 35/100\n",
      "10000/10000 [==============================] - 13s 1ms/step - loss: 0.0123 - acc: 0.9990 - val_loss: 0.2586 - val_acc: 0.9425\n",
      "Epoch 36/100\n",
      "10000/10000 [==============================] - 14s 1ms/step - loss: 0.0105 - acc: 0.9991 - val_loss: 0.2607 - val_acc: 0.9418\n",
      "Epoch 37/100\n",
      "10000/10000 [==============================] - 14s 1ms/step - loss: 0.0095 - acc: 0.9992 - val_loss: 0.2769 - val_acc: 0.9397\n",
      "Epoch 38/100\n",
      "10000/10000 [==============================] - 14s 1ms/step - loss: 0.0090 - acc: 0.9991 - val_loss: 0.2714 - val_acc: 0.9410\n",
      "Epoch 39/100\n",
      "10000/10000 [==============================] - 14s 1ms/step - loss: 0.0078 - acc: 0.9994 - val_loss: 0.2778 - val_acc: 0.9398\n",
      "Epoch 40/100\n",
      "10000/10000 [==============================] - 14s 1ms/step - loss: 0.0075 - acc: 0.9996 - val_loss: 0.2757 - val_acc: 0.9405\n",
      "Epoch 41/100\n",
      "10000/10000 [==============================] - 14s 1ms/step - loss: 0.0066 - acc: 0.9996 - val_loss: 0.2761 - val_acc: 0.9419\n",
      "Epoch 42/100\n",
      "10000/10000 [==============================] - 14s 1ms/step - loss: 0.0090 - acc: 0.9993 - val_loss: 0.2781 - val_acc: 0.9420\n",
      "Epoch 43/100\n",
      "10000/10000 [==============================] - 14s 1ms/step - loss: 0.0063 - acc: 0.9995 - val_loss: 0.2814 - val_acc: 0.9418\n",
      "Epoch 44/100\n",
      "10000/10000 [==============================] - 13s 1ms/step - loss: 0.0043 - acc: 1.0000 - val_loss: 0.2829 - val_acc: 0.9418\n",
      "Epoch 45/100\n",
      "10000/10000 [==============================] - 12s 1ms/step - loss: 0.0036 - acc: 1.0000 - val_loss: 0.2881 - val_acc: 0.9399\n",
      "Epoch 46/100\n",
      "10000/10000 [==============================] - 12s 1ms/step - loss: 0.0032 - acc: 1.0000 - val_loss: 0.2915 - val_acc: 0.9407\n",
      "Epoch 47/100\n",
      "10000/10000 [==============================] - 12s 1ms/step - loss: 0.0029 - acc: 1.0000 - val_loss: 0.2988 - val_acc: 0.9424\n",
      "Epoch 48/100\n",
      "10000/10000 [==============================] - 13s 1ms/step - loss: 0.0028 - acc: 1.0000 - val_loss: 0.3022 - val_acc: 0.9411\n",
      "Epoch 49/100\n",
      "10000/10000 [==============================] - 13s 1ms/step - loss: 0.0052 - acc: 0.9993 - val_loss: 0.3107 - val_acc: 0.9397\n",
      "Epoch 50/100\n",
      "10000/10000 [==============================] - 13s 1ms/step - loss: 0.0107 - acc: 0.9976 - val_loss: 0.3267 - val_acc: 0.9385\n",
      "Epoch 51/100\n",
      "10000/10000 [==============================] - 12s 1ms/step - loss: 0.0066 - acc: 0.9990 - val_loss: 0.3103 - val_acc: 0.9405\n",
      "Epoch 52/100\n",
      "10000/10000 [==============================] - 12s 1ms/step - loss: 0.0042 - acc: 0.9999 - val_loss: 0.3122 - val_acc: 0.9423\n",
      "Epoch 53/100\n",
      "10000/10000 [==============================] - 13s 1ms/step - loss: 0.0018 - acc: 1.0000 - val_loss: 0.3081 - val_acc: 0.9424\n",
      "Epoch 54/100\n",
      "10000/10000 [==============================] - 12s 1ms/step - loss: 0.0015 - acc: 1.0000 - val_loss: 0.3101 - val_acc: 0.9425\n",
      "Epoch 55/100\n",
      "10000/10000 [==============================] - 12s 1ms/step - loss: 0.0014 - acc: 1.0000 - val_loss: 0.3116 - val_acc: 0.9424\n",
      "Epoch 56/100\n",
      "10000/10000 [==============================] - 13s 1ms/step - loss: 0.0013 - acc: 1.0000 - val_loss: 0.3138 - val_acc: 0.9428\n",
      "Epoch 57/100\n",
      "10000/10000 [==============================] - 12s 1ms/step - loss: 0.0012 - acc: 1.0000 - val_loss: 0.3184 - val_acc: 0.9417\n",
      "Epoch 58/100\n",
      "10000/10000 [==============================] - 13s 1ms/step - loss: 0.0012 - acc: 1.0000 - val_loss: 0.3179 - val_acc: 0.9424s - loss: 0.0012 \n",
      "Epoch 59/100\n",
      "10000/10000 [==============================] - 13s 1ms/step - loss: 0.0011 - acc: 1.0000 - val_loss: 0.3195 - val_acc: 0.9420\n",
      "Epoch 60/100\n",
      "10000/10000 [==============================] - 12s 1ms/step - loss: 0.0010 - acc: 1.0000 - val_loss: 0.3233 - val_acc: 0.9416\n",
      "Epoch 61/100\n",
      "10000/10000 [==============================] - 13s 1ms/step - loss: 0.0011 - acc: 1.0000 - val_loss: 0.3454 - val_acc: 0.9367\n",
      "Epoch 62/100\n",
      "10000/10000 [==============================] - 13s 1ms/step - loss: 0.0014 - acc: 1.0000 - val_loss: 0.3436 - val_acc: 0.9389\n",
      "Epoch 63/100\n",
      "10000/10000 [==============================] - 12s 1ms/step - loss: 0.0192 - acc: 0.9944 - val_loss: 0.3381 - val_acc: 0.9414\n",
      "Epoch 64/100\n",
      "10000/10000 [==============================] - 12s 1ms/step - loss: 0.0028 - acc: 0.9996 - val_loss: 0.3351 - val_acc: 0.9415\n",
      "Epoch 65/100\n",
      "10000/10000 [==============================] - 12s 1ms/step - loss: 0.0027 - acc: 0.9994 - val_loss: 0.3368 - val_acc: 0.9421\n",
      "Epoch 66/100\n",
      "10000/10000 [==============================] - 13s 1ms/step - loss: 8.4395e-04 - acc: 1.0000 - val_loss: 0.3361 - val_acc: 0.9418\n",
      "Epoch 67/100\n",
      "10000/10000 [==============================] - 12s 1ms/step - loss: 7.3908e-04 - acc: 1.0000 - val_loss: 0.3372 - val_acc: 0.9428\n",
      "Epoch 68/100\n",
      "10000/10000 [==============================] - 12s 1ms/step - loss: 6.7827e-04 - acc: 1.0000 - val_loss: 0.3378 - val_acc: 0.9425\n",
      "Epoch 69/100\n",
      "10000/10000 [==============================] - 12s 1ms/step - loss: 6.1790e-04 - acc: 1.0000 - val_loss: 0.3395 - val_acc: 0.9421\n",
      "Epoch 70/100\n",
      "10000/10000 [==============================] - 13s 1ms/step - loss: 5.8595e-04 - acc: 1.0000 - val_loss: 0.3411 - val_acc: 0.9419\n",
      "Epoch 71/100\n",
      "10000/10000 [==============================] - 13s 1ms/step - loss: 5.4523e-04 - acc: 1.0000 - val_loss: 0.3413 - val_acc: 0.9417\n",
      "Epoch 72/100\n",
      "10000/10000 [==============================] - 12s 1ms/step - loss: 5.1415e-04 - acc: 1.0000 - val_loss: 0.3418 - val_acc: 0.9421\n",
      "Epoch 73/100\n",
      "10000/10000 [==============================] - 12s 1ms/step - loss: 4.8400e-04 - acc: 1.0000 - val_loss: 0.3441 - val_acc: 0.9419\n",
      "Epoch 74/100\n",
      "10000/10000 [==============================] - 12s 1ms/step - loss: 4.5517e-04 - acc: 1.0000 - val_loss: 0.3477 - val_acc: 0.9421\n",
      "Epoch 75/100\n",
      "10000/10000 [==============================] - 12s 1ms/step - loss: 4.2776e-04 - acc: 1.0000 - val_loss: 0.3467 - val_acc: 0.9419\n",
      "Epoch 76/100\n",
      "10000/10000 [==============================] - 13s 1ms/step - loss: 4.0306e-04 - acc: 1.0000 - val_loss: 0.3528 - val_acc: 0.9414\n",
      "Epoch 77/100\n",
      "10000/10000 [==============================] - 13s 1ms/step - loss: 3.8394e-04 - acc: 1.0000 - val_loss: 0.3513 - val_acc: 0.9420\n",
      "Epoch 78/100\n",
      "10000/10000 [==============================] - 12s 1ms/step - loss: 3.6676e-04 - acc: 1.0000 - val_loss: 0.3556 - val_acc: 0.9414\n",
      "Epoch 79/100\n",
      "10000/10000 [==============================] - 12s 1ms/step - loss: 3.7901e-04 - acc: 1.0000 - val_loss: 0.3601 - val_acc: 0.9411\n",
      "Epoch 80/100\n",
      "10000/10000 [==============================] - 13s 1ms/step - loss: 0.0151 - acc: 0.9952 - val_loss: 0.3953 - val_acc: 0.9373\n",
      "Epoch 81/100\n",
      "10000/10000 [==============================] - 13s 1ms/step - loss: 0.0026 - acc: 0.9993 - val_loss: 0.3674 - val_acc: 0.9409\n",
      "Epoch 82/100\n",
      "10000/10000 [==============================] - 13s 1ms/step - loss: 7.1385e-04 - acc: 1.0000 - val_loss: 0.3669 - val_acc: 0.9418\n",
      "Epoch 83/100\n",
      "10000/10000 [==============================] - 13s 1ms/step - loss: 4.8609e-04 - acc: 1.0000 - val_loss: 0.3638 - val_acc: 0.9425\n",
      "Epoch 84/100\n",
      "10000/10000 [==============================] - 13s 1ms/step - loss: 4.1597e-04 - acc: 1.0000 - val_loss: 0.3631 - val_acc: 0.9428\n",
      "Epoch 85/100\n",
      "10000/10000 [==============================] - 13s 1ms/step - loss: 3.7315e-04 - acc: 1.0000 - val_loss: 0.3636 - val_acc: 0.9427\n",
      "Epoch 86/100\n",
      "10000/10000 [==============================] - 12s 1ms/step - loss: 3.4070e-04 - acc: 1.0000 - val_loss: 0.3650 - val_acc: 0.9436\n",
      "Epoch 87/100\n",
      "10000/10000 [==============================] - 11s 1ms/step - loss: 3.1190e-04 - acc: 1.0000 - val_loss: 0.3646 - val_acc: 0.9432\n",
      "Epoch 88/100\n",
      "10000/10000 [==============================] - 12s 1ms/step - loss: 2.9249e-04 - acc: 1.0000 - val_loss: 0.3661 - val_acc: 0.9432\n",
      "Epoch 89/100\n",
      "10000/10000 [==============================] - 13s 1ms/step - loss: 2.7545e-04 - acc: 1.0000 - val_loss: 0.3675 - val_acc: 0.9435\n",
      "Epoch 90/100\n",
      "10000/10000 [==============================] - 12s 1ms/step - loss: 2.5420e-04 - acc: 1.0000 - val_loss: 0.3684 - val_acc: 0.9430\n",
      "Epoch 91/100\n",
      "10000/10000 [==============================] - 13s 1ms/step - loss: 2.3694e-04 - acc: 1.0000 - val_loss: 0.3675 - val_acc: 0.9431\n",
      "Epoch 92/100\n",
      "10000/10000 [==============================] - 12s 1ms/step - loss: 2.2669e-04 - acc: 1.0000 - val_loss: 0.3683 - val_acc: 0.9425\n",
      "Epoch 93/100\n",
      "10000/10000 [==============================] - 12s 1ms/step - loss: 2.1282e-04 - acc: 1.0000 - val_loss: 0.3702 - val_acc: 0.9424\n",
      "Epoch 94/100\n",
      "10000/10000 [==============================] - 12s 1ms/step - loss: 1.9850e-04 - acc: 1.0000 - val_loss: 0.3714 - val_acc: 0.9428\n",
      "Epoch 95/100\n",
      "10000/10000 [==============================] - 11s 1ms/step - loss: 1.8658e-04 - acc: 1.0000 - val_loss: 0.3728 - val_acc: 0.9426\n",
      "Epoch 96/100\n",
      "10000/10000 [==============================] - 12s 1ms/step - loss: 1.8141e-04 - acc: 1.0000 - val_loss: 0.3753 - val_acc: 0.9421\n",
      "Epoch 97/100\n",
      "10000/10000 [==============================] - 12s 1ms/step - loss: 1.6750e-04 - acc: 1.0000 - val_loss: 0.3748 - val_acc: 0.9426\n",
      "Epoch 98/100\n",
      "10000/10000 [==============================] - 12s 1ms/step - loss: 1.5343e-04 - acc: 1.0000 - val_loss: 0.3766 - val_acc: 0.9427\n",
      "Epoch 99/100\n",
      "10000/10000 [==============================] - 11s 1ms/step - loss: 0.0268 - acc: 0.9926 - val_loss: 0.4114 - val_acc: 0.9388\n",
      "Epoch 100/100\n",
      "10000/10000 [==============================] - 11s 1ms/step - loss: 0.0019 - acc: 0.9996 - val_loss: 0.3960 - val_acc: 0.9415\n"
     ]
    }
   ],
   "source": [
    "# 10000 sliced set \n",
    "# epochs=100, verbose=1 (silent)\n",
    "model1.compile('adam', 'categorical_crossentropy', metrics=['accuracy'])\n",
    "model1 = model1.fit(X_train1, y_train1, batch_size=32, epochs=100, verbose=1, callbacks=None, validation_data=(X_test, y_test))"
   ]
  },
  {
   "cell_type": "code",
   "execution_count": 405,
   "metadata": {},
   "outputs": [
    {
     "data": {
      "image/png": "[encoded data removed]",
      "text/plain": [
       "<Figure size 576x432 with 1 Axes>"
      ]
     },
     "metadata": {},
     "output_type": "display_data"
    },
    {
     "data": {
      "image/png": "[encoded data removed]",
      "text/plain": [
       "<Figure size 576x432 with 1 Axes>"
      ]
     },
     "metadata": {},
     "output_type": "display_data"
    }
   ],
   "source": [
    "# visualize\n",
    "\n",
    "# accuracy\n",
    "plt.figure(0)\n",
    "plt.plot(model1.history['acc'],'r')\n",
    "plt.plot(model1.history['val_acc'],'g')\n",
    "plt.xticks(np.arange(0, 11, 2.0))\n",
    "plt.rcParams['figure.figsize'] = (8, 6)\n",
    "plt.xlabel(\"Epochs\")\n",
    "plt.ylabel(\"Accuracy\")\n",
    "plt.title(\"Training Accuracy vs Test Accuracy\")\n",
    "plt.legend(['Train','Test'])\n",
    " \n",
    "# loss     \n",
    "plt.figure(1)\n",
    "plt.plot(model1.history['loss'],'r')\n",
    "plt.plot(model1.history['val_loss'],'g')\n",
    "plt.xticks(np.arange(0, 11, 2.0))\n",
    "plt.rcParams['figure.figsize'] = (8, 6)\n",
    "plt.xlabel(\"Epochs\")\n",
    "plt.ylabel(\"Loss\")\n",
    "plt.title(\"Training Loss vs Test Loss\")\n",
    "plt.legend(['train','test'])\n",
    " \n",
    "plt.show()"
   ]
  },
  {
   "cell_type": "code",
   "execution_count": 303,
   "metadata": {
    "scrolled": true
   },
   "outputs": [
    {
     "name": "stdout",
     "output_type": "stream",
     "text": [
      "10000/10000 [==============================] - 5s 485us/step\n",
      "\n",
      "Train loss: 0.031\n",
      "Train Accuracy: 0.991\n"
     ]
    }
   ],
   "source": [
    "# evaluating 10000 train set\n",
    "score1 = model1.evaluate(X_train1, y_train1, verbose=1) \n",
    "print(\"\\nTrain loss: {:.3f}\".format(score1[0]))\n",
    "print(\"Train Accuracy: {:.3f}\".format(score1[1]))"
   ]
  },
  {
   "cell_type": "code",
   "execution_count": 302,
   "metadata": {
    "scrolled": false
   },
   "outputs": [
    {
     "name": "stdout",
     "output_type": "stream",
     "text": [
      "10000/10000 [==============================] - 10s 972us/step\n",
      "\n",
      "Test loss: 0.375\n",
      "Test Accuracy: 0.945\n"
     ]
    }
   ],
   "source": [
    "# evaluating test set\n",
    "score1 = model1.evaluate(X_test, y_test, verbose=1) \n",
    "print(\"\\nTest loss: {:.3f}\".format(score1[0]))\n",
    "print(\"Test Accuracy: {:.3f}\".format(score1[1]))"
   ]
  },
  {
   "cell_type": "markdown",
   "metadata": {},
   "source": [
    "### Review (2.1)\n",
    "\n",
    "- The MNIST data of train and test sets of (60000, 28, 28) was converted to (60000, 784) for computing \n",
    "- The first index was shown, which read to be either 3 or 5. The pixels can be converted to binary to make it black/white color and can use neural networks to scale the pixels according to the thresholds\n",
    "- Sequential was ran again with 32 hidden layers and 10 outputs (0-9) and 10 epochs, and its train accuracy was 0.982 and test accuracy was 0.967\n",
    "- Changed epochs to 100 and verbose to 1, the train accuracy was 0.991 (0.031 loss) and test accuracy was 0.945 (0.375 loss...)\n",
    "- Epochs plateaued after ~20"
   ]
  },
  {
   "cell_type": "markdown",
   "metadata": {},
   "source": [
    "### Drop-out"
   ]
  },
  {
   "cell_type": "code",
   "execution_count": 17,
   "metadata": {},
   "outputs": [],
   "source": [
    "from keras.layers import Dropout"
   ]
  },
  {
   "cell_type": "code",
   "execution_count": 21,
   "metadata": {
    "scrolled": true
   },
   "outputs": [
    {
     "name": "stdout",
     "output_type": "stream",
     "text": [
      "Train on 54000 samples, validate on 6000 samples\n",
      "Epoch 1/20\n",
      "54000/54000 [==============================] - 50s 927us/step - loss: 0.2992 - acc: 0.9081 - val_loss: 0.0940 - val_acc: 0.9728\n",
      "Epoch 2/20\n",
      "54000/54000 [==============================] - 49s 908us/step - loss: 0.1431 - acc: 0.9559 - val_loss: 0.0772 - val_acc: 0.9760\n",
      "Epoch 3/20\n",
      "54000/54000 [==============================] - 49s 901us/step - loss: 0.1135 - acc: 0.9647 - val_loss: 0.0760 - val_acc: 0.9787\n",
      "Epoch 4/20\n",
      "54000/54000 [==============================] - 48s 897us/step - loss: 0.0933 - acc: 0.9699 - val_loss: 0.0642 - val_acc: 0.9805\n",
      "Epoch 5/20\n",
      "54000/54000 [==============================] - 49s 903us/step - loss: 0.0837 - acc: 0.9729 - val_loss: 0.0592 - val_acc: 0.9818\n",
      "Epoch 6/20\n",
      "54000/54000 [==============================] - 49s 905us/step - loss: 0.0746 - acc: 0.9762 - val_loss: 0.0618 - val_acc: 0.9813\n",
      "Epoch 7/20\n",
      "54000/54000 [==============================] - 50s 923us/step - loss: 0.0680 - acc: 0.9783 - val_loss: 0.0626 - val_acc: 0.9823\n",
      "Epoch 8/20\n",
      "54000/54000 [==============================] - 49s 916us/step - loss: 0.0602 - acc: 0.9800 - val_loss: 0.0668 - val_acc: 0.9827\n",
      "Epoch 9/20\n",
      "54000/54000 [==============================] - 49s 913us/step - loss: 0.0593 - acc: 0.9807 - val_loss: 0.0598 - val_acc: 0.9830\n",
      "Epoch 10/20\n",
      "54000/54000 [==============================] - 49s 915us/step - loss: 0.0573 - acc: 0.9816 - val_loss: 0.0567 - val_acc: 0.9842\n",
      "Epoch 11/20\n",
      "54000/54000 [==============================] - 50s 917us/step - loss: 0.0545 - acc: 0.9830 - val_loss: 0.0566 - val_acc: 0.9857\n",
      "Epoch 12/20\n",
      "54000/54000 [==============================] - 50s 922us/step - loss: 0.0491 - acc: 0.9841 - val_loss: 0.0637 - val_acc: 0.9798\n",
      "Epoch 13/20\n",
      "54000/54000 [==============================] - 50s 928us/step - loss: 0.0524 - acc: 0.9828 - val_loss: 0.0618 - val_acc: 0.9820\n",
      "Epoch 14/20\n",
      "54000/54000 [==============================] - 50s 922us/step - loss: 0.0477 - acc: 0.9847 - val_loss: 0.0593 - val_acc: 0.9843\n",
      "Epoch 15/20\n",
      "54000/54000 [==============================] - 50s 931us/step - loss: 0.0482 - acc: 0.9851 - val_loss: 0.0510 - val_acc: 0.9873\n",
      "Epoch 16/20\n",
      "54000/54000 [==============================] - 50s 922us/step - loss: 0.0437 - acc: 0.9868 - val_loss: 0.0626 - val_acc: 0.9823\n",
      "Epoch 17/20\n",
      "54000/54000 [==============================] - 50s 922us/step - loss: 0.0406 - acc: 0.9867 - val_loss: 0.0536 - val_acc: 0.9858\n",
      "Epoch 18/20\n",
      "54000/54000 [==============================] - 49s 916us/step - loss: 0.0430 - acc: 0.9863 - val_loss: 0.0731 - val_acc: 0.9818\n",
      "Epoch 19/20\n",
      "54000/54000 [==============================] - 50s 925us/step - loss: 0.0411 - acc: 0.9873 - val_loss: 0.0605 - val_acc: 0.9853\n",
      "Epoch 20/20\n",
      "54000/54000 [==============================] - 50s 920us/step - loss: 0.0394 - acc: 0.9875 - val_loss: 0.0647 - val_acc: 0.9845\n"
     ]
    }
   ],
   "source": [
    "# to avoid overfitting\n",
    "model_dropout = Sequential([\n",
    "    Dense(1024, input_shape=(784,), activation='relu'),\n",
    "    Dropout(.5), #probability too low has minimal effect, too high results in under-learning by the network\n",
    "    Dense(1024, activation='relu'),\n",
    "    Dropout(.5),\n",
    "    Dense(10, activation='softmax')\n",
    "    #max-norm regularization of 4 or 5 can improve results\n",
    "])\n",
    "\n",
    "model_dropout.compile('adam', 'categorical_crossentropy', metrics=['accuracy'])\n",
    "model_dropout = model_dropout.fit(X_train, y_train, batch_size=128, epochs=20, verbose=1, validation_split=0.1)"
   ]
  },
  {
   "cell_type": "code",
   "execution_count": 22,
   "metadata": {},
   "outputs": [
    {
     "data": {
      "image/png": "[encoded data removed]",
      "text/plain": [
       "<Figure size 576x432 with 1 Axes>"
      ]
     },
     "metadata": {},
     "output_type": "display_data"
    },
    {
     "data": {
      "image/png": "[encoded data removed]",
      "text/plain": [
       "<Figure size 576x432 with 1 Axes>"
      ]
     },
     "metadata": {},
     "output_type": "display_data"
    }
   ],
   "source": [
    "# visualize\n",
    "\n",
    "# accuracy\n",
    "plt.figure(0)\n",
    "plt.plot(model_dropout.history['acc'],'r')\n",
    "plt.plot(model_dropout.history['val_acc'],'g')\n",
    "plt.xticks(np.arange(0, 11, 2.0))\n",
    "plt.rcParams['figure.figsize'] = (8, 6)\n",
    "plt.xlabel(\"Epochs\")\n",
    "plt.ylabel(\"Accuracy\")\n",
    "plt.title(\"Training Accuracy vs Test Accuracy\")\n",
    "plt.legend(['Train','Test'])\n",
    " \n",
    "# loss     \n",
    "plt.figure(1)\n",
    "plt.plot(model_dropout.history['loss'],'r')\n",
    "plt.plot(model_dropout.history['val_loss'],'g')\n",
    "plt.xticks(np.arange(0, 11, 2.0))\n",
    "plt.rcParams['figure.figsize'] = (8, 6)\n",
    "plt.xlabel(\"Epochs\")\n",
    "plt.ylabel(\"Loss\")\n",
    "plt.title(\"Training Loss vs Test Loss\")\n",
    "plt.legend(['train','test'])\n",
    " \n",
    "plt.show()"
   ]
  },
  {
   "cell_type": "code",
   "execution_count": 327,
   "metadata": {},
   "outputs": [
    {
     "name": "stdout",
     "output_type": "stream",
     "text": [
      "10000/10000 [==============================] - 25s 2ms/step\n",
      "\n",
      "Train loss: 0.007\n",
      "Train Accuracy: 0.998\n"
     ]
    }
   ],
   "source": [
    "# evaluating 10000 train set\n",
    "score_dropout = model_dropout.evaluate(X_train1, y_train1, verbose=1) \n",
    "print(\"\\nTrain loss: {:.3f}\".format(score_dropout[0]))\n",
    "print(\"Train Accuracy: {:.3f}\".format(score_dropout[1]))"
   ]
  },
  {
   "cell_type": "code",
   "execution_count": 413,
   "metadata": {},
   "outputs": [
    {
     "name": "stdout",
     "output_type": "stream",
     "text": [
      "10000/10000 [==============================] - 9s 909us/step\n",
      "\n",
      "Test loss: 0.073\n",
      "Test Accuracy: 0.982\n"
     ]
    }
   ],
   "source": [
    "# evaluating test set\n",
    "score_dropout = model_dropout.evaluate(X_test, y_test, verbose=1) \n",
    "print(\"\\nTest loss: {:.3f}\".format(score_dropout[0]))\n",
    "print(\"Test Accuracy: {:.3f}\".format(score_dropout[1]))"
   ]
  },
  {
   "cell_type": "markdown",
   "metadata": {},
   "source": [
    "### Confusing matrix, ROC curve"
   ]
  },
  {
   "cell_type": "code",
   "execution_count": 32,
   "metadata": {},
   "outputs": [],
   "source": [
    "# library\n",
    "from sklearn.datasets import make_classification\n",
    "from sklearn.preprocessing import label_binarize\n",
    "from scipy import interp\n",
    "from itertools import cycle\n",
    "from sklearn.metrics import confusion_matrix, classification_report, roc_curve, auc"
   ]
  },
  {
   "cell_type": "code",
   "execution_count": 33,
   "metadata": {
    "scrolled": true
   },
   "outputs": [
    {
     "name": "stdout",
     "output_type": "stream",
     "text": [
      "10000/10000 [==============================] - 3s 329us/step\n"
     ]
    }
   ],
   "source": [
    "model_pred = model_dropout.predict(X_test, batch_size=32, verbose=1)\n",
    "model_predicted = np.argmax(model_pred, axis=1)\n",
    "\n",
    "# confusion matrix\n",
    "model_cm = confusion_matrix(np.argmax(y_test, axis=1), model_predicted)"
   ]
  },
  {
   "cell_type": "code",
   "execution_count": 69,
   "metadata": {},
   "outputs": [
    {
     "data": {
      "image/png": "[encoded data removed]",
      "text/plain": [
       "<Figure size 576x432 with 1 Axes>"
      ]
     },
     "metadata": {},
     "output_type": "display_data"
    }
   ],
   "source": [
    "# rate of true positives against false positives (ROC) for multiclass classification\n",
    "# only displaying micro-average, not macro-average, because it computes the average metric for multiclass\n",
    "\n",
    "n_classes = 10\n",
    "\n",
    "# Compute ROC curve and ROC area for each class\n",
    "fpr = dict()\n",
    "tpr = dict()\n",
    "roc_auc = dict()\n",
    "for i in range(n_classes):\n",
    "    fpr[i], tpr[i], _ = roc_curve(y_test[:, i], model_pred[:, i])\n",
    "    roc_auc[i] = auc(fpr[i], tpr[i])\n",
    "\n",
    "# Compute micro-average ROC curve and ROC area\n",
    "fpr[\"micro\"], tpr[\"micro\"], _ = roc_curve(y_test.ravel(), model_pred.ravel()) #flattened\n",
    "roc_auc[\"micro\"] = auc(fpr[\"micro\"], tpr[\"micro\"])\n",
    "\n",
    "# Zoom in view of the upper left corner.\n",
    "plt.figure(2)\n",
    "plt.xlim(0, 0.05)\n",
    "plt.ylim(0.95, 1)\n",
    "plt.plot(fpr[\"micro\"], tpr[\"micro\"],\n",
    "         label='micro-average ROC curve (area = {0:0.2f})'\n",
    "               ''.format(roc_auc[\"micro\"]),\n",
    "         color='k', linestyle=':', linewidth=4)\n",
    "\n",
    "colors = cycle(['b', 'g', 'r', 'c', 'm', 'y', 'grey', 'deeppink', 'navy'])\n",
    "for i, color in zip(range(10), colors):\n",
    "    plt.plot(fpr[i], tpr[i], color=color,\n",
    "             label='ROC curve of class {0} (area = {1:0.2f})'\n",
    "             ''.format(i, roc_auc[i]))\n",
    "\n",
    "plt.xlabel('False Positive Rate')\n",
    "plt.ylabel('True Positive Rate')\n",
    "plt.title('ROC of multi-class')\n",
    "plt.legend(loc=\"lower right\")\n",
    "plt.show()"
   ]
  },
  {
   "cell_type": "markdown",
   "metadata": {},
   "source": [
    "### Review (2.2)\n",
    "\n",
    "- The neural net had 32 hidden layers with 10 outputs and 'relu' optimizer, and others were not tried because I used CPU\n",
    "- The dropout the train accuracy was 0.998 (0.007 loss) and test accuracy was 0.982 (0.073 loss)\n",
    "- Dropout regulariztion for better generalization and avoiding overfitting\n",
    "- *I sticked with epochs=20 for dropout because Jupyter crashed with I tried 100* \n",
    "- Epochs plateaued after ~10 at 98% accuracy\n",
    "- The ROC curves also slow the true-positive false-negative relations and since they're very close to 1, the multi-class predictions from model_dropout are accurate!  "
   ]
  },
  {
   "cell_type": "markdown",
   "metadata": {},
   "source": [
    "### Task 3: SVHN dataset \n",
    "\n",
    "- Train a convolutional neural network on the SVHN dataset (http://ufldl.stanford.edu/housenumbers/) in format 2 (single digit classification). \n",
    "- You should achieve at least 85% test-set accuracy with a base model. \n",
    "- Also build a model using batch normalization. \n",
    "- Your final accuracy will be included in the grading.\n",
    "________________________________________________________________________________________________________________________________\n",
    "\n",
    "- You can compare against other approaches reported here (http://rodrigob.github.io/are_we_there_yet/build/classification_datasets_results.html#5356484e) if you’re curious. \n",
    "- You shouldn’t use the “extra” data. On a CPU, each epoch (pass through the training set) can take up to ~40 minutes.\n",
    "\n",
    "\n",
    "Hint : Make sure you are doing the reshape for the training set correctly. A direct reshape might give you garbled images. Display an image after reshaping to make sure they are correct."
   ]
  },
  {
   "cell_type": "code",
   "execution_count": null,
   "metadata": {},
   "outputs": [],
   "source": [
    "url = 'http://ufldl.stanford.edu/housenumbers/'"
   ]
  },
  {
   "cell_type": "code",
   "execution_count": null,
   "metadata": {},
   "outputs": [],
   "source": []
  },
  {
   "cell_type": "code",
   "execution_count": null,
   "metadata": {},
   "outputs": [],
   "source": []
  },
  {
   "cell_type": "code",
   "execution_count": null,
   "metadata": {},
   "outputs": [],
   "source": []
  },
  {
   "cell_type": "markdown",
   "metadata": {},
   "source": [
    "### Task 4: Pets dataset\n",
    "\n",
    "- Load the weights of a pre-trained convolutional neural network included in keras, see https://keras.io/applications/ , and use it as feature extraction method to train a linear model or MLP (scikit-learn or keras are fine) on the pets dataset (http://www.robots.ox.ac.uk/~vgg/data/pets/). \n",
    "- You should achieve at least 70% accuracy. \n",
    "- It’s recommended you store the extracted features on disk so you don’t have to recompute them for model selection. \n",
    "- You will be working with the 37 class classification task.\n",
    "\n",
    "Hint : Make sure that you apply the same preprocessing to the images that was applied for training the model."
   ]
  },
  {
   "cell_type": "code",
   "execution_count": null,
   "metadata": {},
   "outputs": [],
   "source": []
  },
  {
   "cell_type": "code",
   "execution_count": null,
   "metadata": {},
   "outputs": [],
   "source": []
  },
  {
   "cell_type": "code",
   "execution_count": null,
   "metadata": {},
   "outputs": [],
   "source": []
  },
  {
   "cell_type": "code",
   "execution_count": null,
   "metadata": {},
   "outputs": [],
   "source": []
  },
  {
   "cell_type": "code",
   "execution_count": null,
   "metadata": {},
   "outputs": [],
   "source": []
  }
 ],
 "metadata": {
  "kernelspec": {
   "display_name": "Python 3",
   "language": "python",
   "name": "python3"
  },
  "language_info": {
   "codemirror_mode": {
    "name": "ipython",
    "version": 3
   },
   "file_extension": ".py",
   "mimetype": "text/x-python",
   "name": "python",
   "nbconvert_exporter": "python",
   "pygments_lexer": "ipython3",
   "version": "3.6.5"
  }
 },
 "nbformat": 4,
 "nbformat_minor": 2
}
